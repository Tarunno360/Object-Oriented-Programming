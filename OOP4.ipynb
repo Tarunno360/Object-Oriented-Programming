{
  "nbformat": 4,
  "nbformat_minor": 0,
  "metadata": {
    "colab": {
      "provenance": [],
      "authorship_tag": "ABX9TyMKEPz1aYYMxyfKS7d4UAS1",
      "include_colab_link": true
    },
    "kernelspec": {
      "name": "python3",
      "display_name": "Python 3"
    },
    "language_info": {
      "name": "python"
    }
  },
  "cells": [
    {
      "cell_type": "markdown",
      "metadata": {
        "id": "view-in-github",
        "colab_type": "text"
      },
      "source": [
        "<a href=\"https://colab.research.google.com/github/Tarunno360/Object-Oriented-Programming/blob/main/OOP4.ipynb\" target=\"_parent\"><img src=\"https://colab.research.google.com/assets/colab-badge.svg\" alt=\"Open In Colab\"/></a>"
      ]
    },
    {
      "cell_type": "code",
      "execution_count": null,
      "metadata": {
        "colab": {
          "base_uri": "https://localhost:8080/"
        },
        "id": "-nmCJAS9IfO4",
        "outputId": "90f61aa2-b4c4-43f9-cc89-c27b457757e8"
      },
      "outputs": [
        {
          "output_type": "stream",
          "name": "stdout",
          "text": [
            "Course: CSE110\n",
            "mark: 15\n",
            "Total mark: 20\n",
            "----------\n",
            "Course: CSE111\n",
            "mark: 20\n",
            "Total mark: 30\n"
          ]
        }
      ],
      "source": [
        "#Quiz:1\n",
        "class Quiz:\n",
        "  def __init__(self,course,mark,total=20):\n",
        "    self.course=course\n",
        "    self.mark=mark\n",
        "    self.total=total\n",
        "  def printDetails(self):\n",
        "    print('Course:',self.course)\n",
        "    print('mark:',self.mark)\n",
        "    print('Total mark:',self.total)\n",
        "Quiz1=Quiz('CSE110',15)\n",
        "Quiz1.printDetails()\n",
        "print('----------')\n",
        "Quiz2=Quiz('CSE111',20,30)\n",
        "Quiz2.printDetails()"
      ]
    },
    {
      "cell_type": "code",
      "source": [
        "#task-1\n",
        "class Customer:\n",
        "  def __init__(self,n):\n",
        "    self.n=n\n",
        "  def greet(self,name=None):\n",
        "    if name==None:\n",
        "      print('Hello')\n",
        "    else:\n",
        "      print('Hello',name)\n",
        "  def purchase(self,*items):\n",
        "    print(self.n,'you purchased',len(items),'items')\n",
        "    for i in items:\n",
        "      print(i)\n",
        "customer_1 = Customer(\"Sam\")\n",
        "customer_1.greet()\n",
        "customer_1.purchase(\"chips\", \"chocolate\", \"orange juice\")\n",
        "print(\"-----------------------------\")\n",
        "customer_2 = Customer(\"David\")\n",
        "customer_2.greet(\"David\")\n",
        "customer_2.purchase(\"orange juice\")\n"
      ],
      "metadata": {
        "colab": {
          "base_uri": "https://localhost:8080/"
        },
        "id": "Naj0PSLJLwSD",
        "outputId": "03dd97f2-cd48-42c8-9db2-df89e47bba3d"
      },
      "execution_count": null,
      "outputs": [
        {
          "output_type": "stream",
          "name": "stdout",
          "text": [
            "Hello\n",
            "Sam you purchased 3 items\n",
            "chips\n",
            "chocolate\n",
            "orange juice\n",
            "-----------------------------\n",
            "Hello David\n",
            "David you purchased 1 items\n",
            "orange juice\n"
          ]
        }
      ]
    },
    {
      "cell_type": "code",
      "source": [
        "#task-2\n",
        "class Panda:\n",
        "  def __init__(self,n,s,num):\n",
        "    self.name=n\n",
        "    self.gender=s\n",
        "    self.age=num\n",
        "  def sleep(self,time=0):\n",
        "    if time>=3 and time<=5:\n",
        "      return (f'{self.name} sleeps {time} hours daily and should have mixed veggies')\n",
        "    elif time>=6 and time<=8:\n",
        "      return (f'{self.name} sleeps {time} hours daily and should have eggplant and tofu')\n",
        "    elif time>=9 and time<=11:\n",
        "      return (f'{self.name} sleeps {time} hours daily and should have broccoli chicken')\n",
        "    elif time==0:\n",
        "      return (f'{self.name} sleeps {time} hours daily and should have Bambo leaves')\n",
        "panda1 = Panda(\"Kunfu\",\"Male\", 5)\n",
        "panda2=Panda(\"Pan Pan\",\"Female\",3)\n",
        "panda3=Panda(\"Ming Ming\",\"Female\",8)\n",
        "print(\"{} is a {} Panda Bear who is {} years old\".format(panda1.name,panda1.gender,panda1.age))\n",
        "print(\"{} is a {} Panda Bear who is {} years old\".format(panda2.name,panda2.gender,panda2.age))\n",
        "print(\"{} is a {} Panda Bear who is {} years old\".format(panda3.name,panda3.gender,panda3.age))\n",
        "print(\"===========================\")\n",
        "print(panda2.sleep(10))\n",
        "print(panda1.sleep(4))\n",
        "print(panda3.sleep())"
      ],
      "metadata": {
        "colab": {
          "base_uri": "https://localhost:8080/"
        },
        "id": "r0icW3EvTwOw",
        "outputId": "57f848a3-c65a-4c82-c0a0-32196ee73f32"
      },
      "execution_count": null,
      "outputs": [
        {
          "output_type": "stream",
          "name": "stdout",
          "text": [
            "Kunfu is a Male Panda Bear who is 5 years old\n",
            "Pan Pan is a Female Panda Bear who is 3 years old\n",
            "Ming Ming is a Female Panda Bear who is 8 years old\n",
            "===========================\n",
            "Pan Pan sleeps 10 hours daily and should have broccoli chicken\n",
            "Kunfu sleeps 4 hours daily and should have mixed veggies\n",
            "Ming Ming sleeps 0 hours daily and should have Bambo leaves\n"
          ]
        }
      ]
    },
    {
      "cell_type": "code",
      "source": [
        "#task-3\n",
        "class Cat:\n",
        "  def __init__(self,n='White',x='Sitting'):\n",
        "    self.n=n\n",
        "    self.x=x\n",
        "  def printCat(self):\n",
        "    print(f'{self.n} cat is {self.x}')\n",
        "  def changeColor(self,m):\n",
        "    self.n=m\n",
        "c1 = Cat()\n",
        "c2 = Cat(\"Black\")\n",
        "c3 = Cat(\"Brown\", \"jumping\")\n",
        "c4 = Cat(\"Red\", \"purring\")\n",
        "c1.printCat()\n",
        "c2.printCat()\n",
        "c3.printCat()\n",
        "c4.printCat()\n",
        "c1.changeColor(\"Blue\")\n",
        "c3.changeColor(\"Purple\")\n",
        "c1.printCat()\n",
        "c3.printCat()"
      ],
      "metadata": {
        "colab": {
          "base_uri": "https://localhost:8080/"
        },
        "id": "oAzwdFUKWond",
        "outputId": "7e0e0ac4-e33a-403b-a871-fd17f27b765c"
      },
      "execution_count": null,
      "outputs": [
        {
          "output_type": "stream",
          "name": "stdout",
          "text": [
            "White cat is Sitting\n",
            "Black cat is Sitting\n",
            "Brown cat is jumping\n",
            "Red cat is purring\n",
            "Blue cat is Sitting\n",
            "Purple cat is jumping\n"
          ]
        }
      ]
    },
    {
      "cell_type": "code",
      "source": [
        "#taski-4\n",
        "class Student:\n",
        "  def __init__(self,name='Default Student'):\n",
        "    self.name=name\n",
        "  def quizcalc(self,n1=0,n2=0,n3=0):\n",
        "    self.n1=0\n",
        "    self.n2=0\n",
        "    self.n3=0\n",
        "    self.avg=(n1+n2+n3)/3\n",
        "    return self.avg\n",
        "  def printdetail(self):\n",
        "    print('Hello',self.name)\n",
        "    print('Your average quiz score is',self.avg)\n",
        "s1 = Student()\n",
        "s1.quizcalc(10)\n",
        "print('--------------------------------')\n",
        "s1.printdetail()\n",
        "s2 = Student('Harry')\n",
        "s2.quizcalc(10,8)\n",
        "print('--------------------------------')\n",
        "s2.printdetail()\n",
        "s3 = Student('Hermione')\n",
        "s3.quizcalc(10,9,10)\n",
        "print('--------------------------------')\n",
        "s3.printdetail()\n"
      ],
      "metadata": {
        "colab": {
          "base_uri": "https://localhost:8080/"
        },
        "id": "5UKOjHiIaSyT",
        "outputId": "07d51f5c-6917-4abd-934f-57865fc028e7"
      },
      "execution_count": null,
      "outputs": [
        {
          "output_type": "stream",
          "name": "stdout",
          "text": [
            "--------------------------------\n",
            "Hello Default Student\n",
            "Your average quiz score is 3.3333333333333335\n",
            "--------------------------------\n",
            "Hello Harry\n",
            "Your average quiz score is 6.0\n",
            "--------------------------------\n",
            "Hello Hermione\n",
            "Your average quiz score is 9.666666666666666\n"
          ]
        }
      ]
    },
    {
      "cell_type": "code",
      "source": [
        "#task-5\n",
        "class Student:\n",
        "  def __init__(self,n,id,dep='CSE'):\n",
        "    self.n=n\n",
        "    self.id=id\n",
        "    self.dep=dep\n",
        "  def printDetails(self):\n",
        "    print('Name',self.n)\n",
        "    print('ID',self.id)\n",
        "    print('department',self.dep)\n",
        "    print(f'Daily effort{self.eft} hours')\n",
        "    if self.eft<=2:\n",
        "      print('suggestion :more effort')\n",
        "    elif self.eft<=4:\n",
        "      print('suggestion :keep up Good work')\n",
        "    else:\n",
        "      print('suggestion : Execellent')\n",
        "  def dailyEffort(self,x):\n",
        "    self.eft=x\n",
        "harry = Student('Harry Potter', 123)\n",
        "harry.dailyEffort(3)\n",
        "harry.printDetails()\n",
        "print('========================')\n",
        "john = Student(\"John Wick\", 456, \"BBA\")\n",
        "john.dailyEffort(2)\n",
        "john.printDetails()\n",
        "print('========================')\n",
        "naruto = Student(\"Naruto Uzumaki\", 777, \"Ninja\")\n",
        "naruto.dailyEffort(6)\n",
        "naruto.printDetails()\n"
      ],
      "metadata": {
        "colab": {
          "base_uri": "https://localhost:8080/"
        },
        "id": "GUdsQ3aQaSKp",
        "outputId": "d93b56f4-76d3-46e1-fa85-6c01df73c583"
      },
      "execution_count": null,
      "outputs": [
        {
          "output_type": "stream",
          "name": "stdout",
          "text": [
            "Name Harry Potter\n",
            "ID 123\n",
            "department CSE\n",
            "Daily effort3 hours\n",
            "suggestion :keep up Good work\n",
            "========================\n",
            "Name John Wick\n",
            "ID 456\n",
            "department BBA\n",
            "Daily effort2 hours\n",
            "suggestion :more effort\n",
            "========================\n",
            "Name Naruto Uzumaki\n",
            "ID 777\n",
            "department Ninja\n",
            "Daily effort6 hours\n",
            "suggestion : Execellent\n"
          ]
        }
      ]
    },
    {
      "cell_type": "code",
      "source": [
        "#task-6\n",
        "class Patient:\n",
        "    def __init__(self,n,a):\n",
        "        self.n=n\n",
        "        self.a=a\n",
        "    def add_Symptom(self,*sym):\n",
        "        self.s=','.join(sym)\n",
        "    def printPatientDetail(self):\n",
        "        print('Name',self.n)\n",
        "        print('age',self.a)\n",
        "        print('Symtoms',self.s)\n",
        "p1 = Patient('Thomas', 23)\n",
        "p1.add_Symptom('Headache')\n",
        "p2 = Patient('Carol', 20)\n",
        "p2.add_Symptom('Vomiting', 'Coughing')\n",
        "p3 = Patient('Mike', 25)\n",
        "p3.add_Symptom('Fever', 'Headache', 'Coughing')\n",
        "print(\"=========================\")\n",
        "p1.printPatientDetail()\n",
        "print(\"=========================\")\n",
        "p2.printPatientDetail()\n",
        "print(\"=========================\")\n",
        "p3.printPatientDetail()"
      ],
      "metadata": {
        "id": "E3T0igaJelYW",
        "colab": {
          "base_uri": "https://localhost:8080/"
        },
        "outputId": "c70bd016-6ca3-4cbc-88a3-281e8995768e"
      },
      "execution_count": null,
      "outputs": [
        {
          "output_type": "stream",
          "name": "stdout",
          "text": [
            "=========================\n",
            "Name Thomas\n",
            "age 23\n",
            "Symtoms Headache\n",
            "=========================\n",
            "Name Carol\n",
            "age 20\n",
            "Symtoms Vomiting,Coughing\n",
            "=========================\n",
            "Name Mike\n",
            "age 25\n",
            "Symtoms Fever,Headache,Coughing\n"
          ]
        }
      ]
    },
    {
      "cell_type": "code",
      "source": [
        "#task-7\n",
        "class Match:\n",
        "    def __init__(self,n):\n",
        "        self.n=n.split('-')\n",
        "        self.total=0\n",
        "        self.over=0\n",
        "        self.wicket=0\n",
        "        print('5..4..3..2..1..Play!!!')\n",
        "    def add_run(self,r):\n",
        "        self.total+=r\n",
        "    def add_over(self,o):\n",
        "        if o<5:\n",
        "            self.over+=o\n",
        "        else:\n",
        "            print('Warning! cannot add 5 over')\n",
        "    def add_wicket(self,w):\n",
        "        self.wicket+=w\n",
        "    def print_scoreboard(self):\n",
        "        return (f'Batting team :{self.n[0]} \\n Bowling Team :{self.n[1]} \\n Total run:{self.total} wickets: {self.wicket} overs {self.over}')\n",
        "match1 = Match(\"Rangpur Riders-Cumilla Victorians\")\n",
        "print(\"=========================\")\n",
        "match1.add_run(4)\n",
        "match1.add_run(6)\n",
        "match1.add_over(1)\n",
        "print(match1.print_scoreboard())\n",
        "print(\"=========================\")\n",
        "match1.add_over(5)\n",
        "print(\"=========================\")\n",
        "match1.add_wicket(1)\n",
        "print(match1.print_scoreboard())"
      ],
      "metadata": {
        "colab": {
          "base_uri": "https://localhost:8080/"
        },
        "id": "QsxQIYk2OrUj",
        "outputId": "c7deb919-98ea-494d-eb6e-b2f01bb4aa01"
      },
      "execution_count": null,
      "outputs": [
        {
          "output_type": "stream",
          "name": "stdout",
          "text": [
            "5..4..3..2..1..Play!!!\n",
            "=========================\n",
            "Batting team :Rangpur Riders \n",
            " Bowling Team :Cumilla Victorians \n",
            " Total run:10 wickets: 0 overs 1\n",
            "=========================\n",
            "Warning! cannot add 5 over\n",
            "=========================\n",
            "Batting team :Rangpur Riders \n",
            " Bowling Team :Cumilla Victorians \n",
            " Total run:10 wickets: 1 overs 1\n"
          ]
        }
      ]
    },
    {
      "cell_type": "code",
      "source": [
        "#task-8\n",
        "class ParcelKoro:\n",
        "    def __init__(self,n='no name',w=0):\n",
        "        self.n=n\n",
        "        self.product_weight=w\n",
        "        self.t=0\n",
        "    def calculateFee(self,loc=None):\n",
        "        if self.product_weight==0:\n",
        "            self.t=0\n",
        "        elif loc==None:\n",
        "            self.t = (self.product_weight * 20) + 50\n",
        "        else:\n",
        "            self.t = (self.product_weight * 20) + 100\n",
        "    def printDetails(self):\n",
        "        print('Name',self.n)\n",
        "        print('weight', self.product_weight)\n",
        "        print('Total fee',self.t)\n",
        "print(\"**********************\")\n",
        "p1 = ParcelKoro()\n",
        "p1.calculateFee()\n",
        "p1.printDetails()\n",
        "print(\"**********************\")\n",
        "p2 = ParcelKoro('Bob The Builder')\n",
        "p2.calculateFee()\n",
        "p2.printDetails()\n",
        "print(\"----------------------------\")\n",
        "p2.product_weight = 15\n",
        "p2.calculateFee()\n",
        "p2.printDetails()\n",
        "print(\"**********************\")\n",
        "p3 = ParcelKoro('Dora The Explorer', 10)\n",
        "p3.calculateFee('Dhanmondi')\n",
        "p3.printDetails()"
      ],
      "metadata": {
        "colab": {
          "base_uri": "https://localhost:8080/"
        },
        "id": "-RIANKD8vLT9",
        "outputId": "bb400db8-0222-450b-db2c-2358bb7582ce"
      },
      "execution_count": null,
      "outputs": [
        {
          "output_type": "stream",
          "name": "stdout",
          "text": [
            "**********************\n",
            "Name no name\n",
            "weight 0\n",
            "Total fee 0\n",
            "**********************\n",
            "Name Bob The Builder\n",
            "weight 0\n",
            "Total fee 0\n",
            "----------------------------\n",
            "Name Bob The Builder\n",
            "weight 15\n",
            "Total fee 350\n",
            "**********************\n",
            "Name Dora The Explorer\n",
            "weight 10\n",
            "Total fee 300\n"
          ]
        }
      ]
    },
    {
      "cell_type": "code",
      "source": [
        "#task=9\n",
        "class Batsman:\n",
        "    def __init__(self,*args):\n",
        "        self.r=args[-2]\n",
        "        self.b=args[-1]\n",
        "        self.n=args[0] if len(args)>2 else 'New Batsman'\n",
        "    def battingStrikeRate(self):\n",
        "        strike=(self.r/self.b)*100\n",
        "        return strike\n",
        "    def printCareerStatistics(self):\n",
        "        print('name ',self.n)\n",
        "        print(f'Runs scored :{self.r},Ball faced:{self.b}')\n",
        "    def setName(self,new):\n",
        "        self.n=new\n",
        "b1 = Batsman(6101, 7380)\n",
        "b1.printCareerStatistics()\n",
        "print(\"============================\")\n",
        "b2 = Batsman(\"Liton Das\", 678, 773)\n",
        "b2.printCareerStatistics()\n",
        "print(\"----------------------------\")\n",
        "print(b2.battingStrikeRate())\n",
        "print(\"============================\")\n",
        "b1.setName(\"Shakib Al Hasan\")\n",
        "b1.printCareerStatistics()\n",
        "print(\"----------------------------\")\n",
        "print(b1.battingStrikeRate())\n",
        "\n"
      ],
      "metadata": {
        "colab": {
          "base_uri": "https://localhost:8080/"
        },
        "id": "Zk39XYt7vTR-",
        "outputId": "c21b7674-ef64-42c7-a894-618ea901bace"
      },
      "execution_count": null,
      "outputs": [
        {
          "output_type": "stream",
          "name": "stdout",
          "text": [
            "name  New Batsman\n",
            "Runs scored :6101,Ball faced:7380\n",
            "============================\n",
            "name  Liton Das\n",
            "Runs scored :678,Ball faced:773\n",
            "----------------------------\n",
            "87.71021992238033\n",
            "============================\n",
            "name  Shakib Al Hasan\n",
            "Runs scored :6101,Ball faced:7380\n",
            "----------------------------\n",
            "82.66937669376694\n"
          ]
        }
      ]
    },
    {
      "cell_type": "code",
      "source": [
        "#task-10\n",
        "class EPL_Team:\n",
        "    def __init__(self,*args):\n",
        "        self.n=args[0]\n",
        "        self.s=args[1] if len(args)>1 else 'No slogan'\n",
        "        self.t=0\n",
        "    def increaseTitle(self):\n",
        "        self.t+=1\n",
        "    def showClubInfo(self):\n",
        "        print('name ',self.n)\n",
        "        print('Song',self.s)\n",
        "        print('trophy',self.t)\n",
        "    def changeSong(self,song):\n",
        "        self.s=song\n",
        "manu = EPL_Team('Manchester United', 'Glory Glory Man United')\n",
        "chelsea = EPL_Team('Chelsea')\n",
        "print('===================')\n",
        "print(manu.showClubInfo())\n",
        "print('##################')\n",
        "manu.increaseTitle()\n",
        "print(manu.showClubInfo())\n",
        "print('===================')\n",
        "print(chelsea.showClubInfo())\n",
        "chelsea.changeSong('Keep the blue flag flying high')\n",
        "print(chelsea.showClubInfo())"
      ],
      "metadata": {
        "colab": {
          "base_uri": "https://localhost:8080/"
        },
        "id": "jagopGvWPh6m",
        "outputId": "808a2e8b-a9df-4fae-da69-93bd868ad84e"
      },
      "execution_count": null,
      "outputs": [
        {
          "output_type": "stream",
          "name": "stdout",
          "text": [
            "===================\n",
            "name  Manchester United\n",
            "Song Glory Glory Man United\n",
            "trophy 0\n",
            "None\n",
            "##################\n",
            "name  Manchester United\n",
            "Song Glory Glory Man United\n",
            "trophy 1\n",
            "None\n",
            "===================\n",
            "name  Chelsea\n",
            "Song No slogan\n",
            "trophy 0\n",
            "None\n",
            "name  Chelsea\n",
            "Song Keep the blue flag flying high\n",
            "trophy 0\n",
            "None\n"
          ]
        }
      ]
    },
    {
      "cell_type": "code",
      "source": [
        "#TASK-11\n",
        "class Author:\n",
        "  def __init__(self,name='Default',*books):\n",
        "      self.name=name\n",
        "      self.b=books\n",
        "  def addBooks(self,*book):\n",
        "      self.b=book\n",
        "  def changeName(self,new):\n",
        "      self.name=new\n",
        "  def printDetails(self):\n",
        "      print('Name',self.name)\n",
        "      print('List of books')\n",
        "      for i in self.b:\n",
        "          print(i)\n",
        "auth1 = Author('Humayun Ahmed')\n",
        "auth1.addBooks('Deyal', 'Megher Opor Bari')\n",
        "auth1.printDetails()\n",
        "print('===================')\n",
        "auth2 = Author()\n",
        "print(auth2.name)\n",
        "auth2.changeName('Mario Puzo')\n",
        "auth2.addBooks('The Godfather', 'Omerta', 'The Sicilian')\n",
        "print('===================')\n",
        "auth2.printDetails()\n",
        "print('===================')\n",
        "auth3 = Author('Paolo Coelho', 'The Alchemist', 'The Fifth Mountain')\n",
        "auth3.printDetails()"
      ],
      "metadata": {
        "colab": {
          "base_uri": "https://localhost:8080/"
        },
        "id": "Ma6LkXecSSL-",
        "outputId": "f8c9e69b-3f28-4b48-9224-480f9fdd2fac"
      },
      "execution_count": null,
      "outputs": [
        {
          "output_type": "stream",
          "name": "stdout",
          "text": [
            "Name Humayun Ahmed\n",
            "List of books\n",
            "Deyal\n",
            "Megher Opor Bari\n",
            "===================\n",
            "Default\n",
            "===================\n",
            "Name Mario Puzo\n",
            "List of books\n",
            "The Godfather\n",
            "Omerta\n",
            "The Sicilian\n",
            "===================\n",
            "Name Paolo Coelho\n",
            "List of books\n",
            "The Alchemist\n",
            "The Fifth Mountain\n"
          ]
        }
      ]
    },
    {
      "cell_type": "code",
      "source": [
        "#task-12\n",
        "class TaxiLagbe:\n",
        "    def __init__(self,id,loc):\n",
        "        self.id=id\n",
        "        self.loc=loc\n",
        "        self.p1=[]\n",
        "        self.topass=0\n",
        "        self.total=0\n",
        "    def addPassenger(self,*p):\n",
        "        self.topass+=len(p)\n",
        "        if self.topass<5:\n",
        "            for i in p:\n",
        "                self.p1.append(i[:-4])\n",
        "                print(f'dear {i[:-4]}! Welcome to TaxiLagbe')\n",
        "            for i in p:\n",
        "                self.total += int(i[-3:])\n",
        "        else:\n",
        "            print('Taxi Full!')\n",
        "    def printDetails(self):\n",
        "        print('trip info =',self.id)\n",
        "        print(f'cover only{self.loc} area')\n",
        "        print('total pass=',len(self.p1))\n",
        "        print('Passenger list:')\n",
        "        print(','.join(self.p1))\n",
        "        print('total fare :',self.total)\n",
        "taxi1 = TaxiLagbe('1010-01', 'Dhaka')\n",
        "print('-------------------------------')\n",
        "taxi1.addPassenger('Walker_100', 'Wood_200')\n",
        "taxi1.addPassenger('Matt_100')\n",
        "taxi1.addPassenger('Wilson_105')\n",
        "print('-------------------------------')\n",
        "taxi1.printDetails()\n",
        "print('-------------------------------')\n",
        "taxi1.addPassenger('Karen_200')\n",
        "print('-------------------------------')\n",
        "taxi1.printDetails()\n",
        "print('-------------------------------')\n",
        "taxi2 = TaxiLagbe('1010-02', 'Khulna')\n",
        "taxi2.addPassenger('Ronald_115')\n",
        "taxi2.addPassenger('Parker_215')\n",
        "print('-------------------------------')\n",
        "taxi2.printDetails()\n",
        "\n",
        "\n"
      ],
      "metadata": {
        "colab": {
          "base_uri": "https://localhost:8080/"
        },
        "id": "paOG-92lOxrV",
        "outputId": "dc7e506c-5770-43be-890c-c5df47528d13"
      },
      "execution_count": null,
      "outputs": [
        {
          "output_type": "stream",
          "name": "stdout",
          "text": [
            "-------------------------------\n",
            "dear Walker! Welcome to TaxiLagbe\n",
            "dear Wood! Welcome to TaxiLagbe\n",
            "dear Matt! Welcome to TaxiLagbe\n",
            "dear Wilson! Welcome to TaxiLagbe\n",
            "-------------------------------\n",
            "trip info = 1010-01\n",
            "cover onlyDhaka area\n",
            "total pass= 4\n",
            "Passenger list:\n",
            "Walker,Wood,Matt,Wilson\n",
            "total fare : 505\n",
            "-------------------------------\n",
            "Taxi Full!\n",
            "-------------------------------\n",
            "trip info = 1010-01\n",
            "cover onlyDhaka area\n",
            "total pass= 4\n",
            "Passenger list:\n",
            "Walker,Wood,Matt,Wilson\n",
            "total fare : 505\n",
            "-------------------------------\n",
            "dear Ronald! Welcome to TaxiLagbe\n",
            "dear Parker! Welcome to TaxiLagbe\n",
            "-------------------------------\n",
            "trip info = 1010-02\n",
            "cover onlyKhulna area\n",
            "total pass= 2\n",
            "Passenger list:\n",
            "Ronald,Parker\n",
            "total fare : 330\n"
          ]
        }
      ]
    },
    {
      "cell_type": "code",
      "source": [
        "#task-13\n",
        "class Account:\n",
        "    def __init__(self,n='Default Account',b=0.0):\n",
        "        self.name=n\n",
        "        self.balance=b\n",
        "    def details(self):\n",
        "        s1=self.name,self.balance\n",
        "        return (f\"{self.name} \\n{float(self.balance)}\")\n",
        "    def withdraw(self,w):\n",
        "        if (self.balance - w)>3070:\n",
        "            print('Withdraw successful!new balace is :', self.balance - w)\n",
        "        else:\n",
        "            print('sorry unsuccesssful')\n",
        "a1 = Account()\n",
        "print(a1.details())\n",
        "print(\"------------------------\")\n",
        "a1.name = \"Oliver\"\n",
        "a1.balance = 10000.0\n",
        "print(a1.details())\n",
        "print(\"------------------------\")\n",
        "a2 = Account(\"Liam\")\n",
        "print(a2.details())\n",
        "print(\"------------------------\")\n",
        "a3 = Account(\"Noah\",400)\n",
        "print(a3.details())\n",
        "print(\"------------------------\")\n",
        "a1.withdraw(6930)\n",
        "print(\"------------------------\")\n",
        "a2.withdraw(600)\n",
        "print(\"------------------------\")\n",
        "a1.withdraw(6929)"
      ],
      "metadata": {
        "colab": {
          "base_uri": "https://localhost:8080/"
        },
        "id": "DA05n-PiO3Fr",
        "outputId": "d03f3d88-70c9-4ced-a0a1-c30d5d4705bb"
      },
      "execution_count": null,
      "outputs": [
        {
          "output_type": "stream",
          "name": "stdout",
          "text": [
            "Default Account \n",
            "0.0\n",
            "------------------------\n",
            "Oliver \n",
            "10000.0\n",
            "------------------------\n",
            "Liam \n",
            "0.0\n",
            "------------------------\n",
            "Noah \n",
            "400.0\n",
            "------------------------\n",
            "sorry unsuccesssful\n",
            "------------------------\n",
            "sorry unsuccesssful\n",
            "------------------------\n",
            "Withdraw successful!new balace is : 3071.0\n"
          ]
        }
      ]
    },
    {
      "cell_type": "code",
      "source": [
        "#task-14\n",
        "class StudentDatabase:\n",
        "  def __init__(self, name, id):\n",
        "    self.name=name\n",
        "    self.id=int(id)\n",
        "    self.grades={}\n",
        "    self.credit=3\n",
        "  def calculateGPA(self,Result, d):\n",
        "    courseList=[]\n",
        "    cgpa=0\n",
        "    for i in Result:\n",
        "      l=i.split(\": \")\n",
        "      courseList.append(l[0])\n",
        "      cgpa+=float(l[1])\n",
        "    cgpa=(cgpa*self.credit)/(len(courseList)*self.credit)\n",
        "    tempDictionary={}\n",
        "    cgpa=\"%.2f\" % cgpa\n",
        "    tempDictionary[tuple(courseList)]=cgpa\n",
        "    self.grades[d]=tempDictionary\n",
        "  def printDetails(self):\n",
        "    print(\"Name:\", self.name)\n",
        "    print(\"ID:\", self.id)\n",
        "    for i in self.grades:\n",
        "      print(f\"Courses taken in {i}:\")\n",
        "      for k,v in self.grades[i].items():\n",
        "        for item in k:\n",
        "          print(item)\n",
        "      print(\"GPA\",v)\n",
        "s1 = StudentDatabase('Pietro', '10101222')\n",
        "s1.calculateGPA(['CSE230: 4.0', 'CSE220: 4.0', 'MAT110: 4.0'], 'Summer2020')\n",
        "s1.calculateGPA(['CSE250: 3.7', 'CSE330: 4.0'], 'Summer2021')\n",
        "print(f'Grades for {s1.name}\\n{s1.grades}')\n",
        "print('------------------------------------------------------')\n",
        "s1.printDetails()\n",
        "s2 = StudentDatabase('Wanda', '10103332')\n",
        "s2.calculateGPA(['CSE111: 3.7', 'CSE260: 3.7', 'ENG101: 4.0'], 'Summer2022')\n",
        "print('------------------------------------------------------')\n",
        "print(f'Grades for {s2.name}\\n{s2.grades}')\n",
        "print('------------------------------------------------------')\n",
        "s2.printDetails()"
      ],
      "metadata": {
        "colab": {
          "base_uri": "https://localhost:8080/"
        },
        "id": "dldyafpVO6jk",
        "outputId": "fadf41b0-1036-4d73-8421-484701bcfa39"
      },
      "execution_count": null,
      "outputs": [
        {
          "output_type": "stream",
          "name": "stdout",
          "text": [
            "Grades for Pietro\n",
            "{'Summer2020': {('CSE230', 'CSE220', 'MAT110'): '4.00'}, 'Summer2021': {('CSE250', 'CSE330'): '3.85'}}\n",
            "------------------------------------------------------\n",
            "Name: Pietro\n",
            "ID: 10101222\n",
            "Courses taken in Summer2020:\n",
            "CSE230\n",
            "CSE220\n",
            "MAT110\n",
            "GPA 4.00\n",
            "Courses taken in Summer2021:\n",
            "CSE250\n",
            "CSE330\n",
            "GPA 3.85\n",
            "------------------------------------------------------\n",
            "Grades for Wanda\n",
            "{'Summer2022': {('CSE111', 'CSE260', 'ENG101'): '3.80'}}\n",
            "------------------------------------------------------\n",
            "Name: Wanda\n",
            "ID: 10103332\n",
            "Courses taken in Summer2022:\n",
            "CSE111\n",
            "CSE260\n",
            "ENG101\n",
            "GPA 3.80\n"
          ]
        }
      ]
    }
  ]
}