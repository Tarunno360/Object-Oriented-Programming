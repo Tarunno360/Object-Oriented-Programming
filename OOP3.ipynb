{
  "nbformat": 4,
  "nbformat_minor": 0,
  "metadata": {
    "colab": {
      "provenance": [],
      "authorship_tag": "ABX9TyM8eiRnrXYS2I/rdugSo+7+",
      "include_colab_link": true
    },
    "kernelspec": {
      "name": "python3",
      "display_name": "Python 3"
    },
    "language_info": {
      "name": "python"
    }
  },
  "cells": [
    {
      "cell_type": "markdown",
      "metadata": {
        "id": "view-in-github",
        "colab_type": "text"
      },
      "source": [
        "<a href=\"https://colab.research.google.com/github/Tarunno360/Object-Oriented-Programming/blob/main/OOP3.ipynb\" target=\"_parent\"><img src=\"https://colab.research.google.com/assets/colab-badge.svg\" alt=\"Open In Colab\"/></a>"
      ]
    },
    {
      "cell_type": "code",
      "execution_count": null,
      "metadata": {
        "id": "B2pihcc5HczE",
        "colab": {
          "base_uri": "https://localhost:8080/"
        },
        "outputId": "829cabb5-4716-42d4-8c61-d125ac64f1d2"
      },
      "outputs": [
        {
          "output_type": "stream",
          "name": "stdout",
          "text": [
            "Lets calculate\n",
            "num11\n",
            "op+\n",
            "num22\n",
            "1\n",
            "+\n",
            "2\n",
            "3\n"
          ]
        }
      ],
      "source": [
        "#task-1\n",
        "class Calculator:\n",
        "  def __init__(self):\n",
        "    print('Lets calculate')\n",
        "    self.num1=0\n",
        "    self.op=''\n",
        "    self.num2=0\n",
        "  def add(self):\n",
        "    return self.num1+self.num2\n",
        "  def subtract(self):\n",
        "    return self.num1-self.num2\n",
        "  def multipy(self):\n",
        "    return self.num1*self.num2\n",
        "  def divide(self):\n",
        "    return self.num1/self.num2\n",
        "cal1=Calculator()\n",
        "n1=int(input('num1'))\n",
        "op=input('op')\n",
        "n2=int(input('num2'))\n",
        "print(n1)\n",
        "print(op)\n",
        "print(n2)\n",
        "cal1.num1=n1\n",
        "cal1.num2=n2\n",
        "if op=='+':\n",
        "  print(cal1.add())\n",
        "if op=='-':\n",
        "  print(cal1.subtract())\n",
        "if op=='/':\n",
        "  print(cal1.divide())\n",
        "if op=='*':\n",
        "  print(cal1.multipy())\n"
      ]
    },
    {
      "cell_type": "code",
      "source": [
        "#task-2\n",
        "class Course:\n",
        "  def __init__(self,x,y,z):\n",
        "    self.a=x\n",
        "    self.b=y\n",
        "    self.c=z\n",
        "  def detail(self):\n",
        "    print(self.a,'-',self.b,'-',self.c)\n",
        "c1 = Course(\"CSE110\", \"TBA\", 8)\n",
        "c1.detail()\n",
        "print(\"===============\")\n",
        "c2 = Course(\"CSE111\", \"TBA\", 9)\n",
        "c2.detail()"
      ],
      "metadata": {
        "colab": {
          "base_uri": "https://localhost:8080/"
        },
        "id": "2WZqSxncT_kN",
        "outputId": "559590eb-559e-48ec-9b57-e8bde23c9d0f"
      },
      "execution_count": null,
      "outputs": [
        {
          "output_type": "stream",
          "name": "stdout",
          "text": [
            "CSE110 - TBA - 8\n",
            "===============\n",
            "CSE111 - TBA - 9\n"
          ]
        }
      ]
    },
    {
      "cell_type": "code",
      "source": [
        "#task-3\n",
        "class Patient:\n",
        "  def __init__(self,n,a,w,h):\n",
        "    self.name=n\n",
        "    self.age=a\n",
        "    self.height=h\n",
        "    self.weight=w\n",
        "    self.bmi=w/((h/100)**2)\n",
        "  def Details(self):\n",
        "    print('Name:',self.name)\n",
        "    print('Age:',self.age)\n",
        "    print('Height:',self.height)\n",
        "    print('WEIGHT:',self.weight)\n",
        "    print('BMI',self.bmi)\n",
        "p1 = Patient(\"A\", 55, 63.0, 158.0)\n",
        "p1.Details()\n",
        "print(\"====================\")\n",
        "p2 = Patient(\"B\", 53, 61.0, 149.0)\n",
        "p2.Details()"
      ],
      "metadata": {
        "colab": {
          "base_uri": "https://localhost:8080/"
        },
        "id": "ab5Vw0yUV_E4",
        "outputId": "b9ed2f14-4267-4c2b-d2d4-639456ef8a84"
      },
      "execution_count": null,
      "outputs": [
        {
          "output_type": "stream",
          "name": "stdout",
          "text": [
            "Name: A\n",
            "Age: 55\n",
            "Height: 158.0\n",
            "WEIGHT: 63.0\n",
            "BMI 25.236340330075304\n",
            "====================\n",
            "Name: B\n",
            "Age: 53\n",
            "Height: 149.0\n",
            "WEIGHT: 61.0\n",
            "BMI 27.476239809017613\n"
          ]
        }
      ]
    },
    {
      "cell_type": "code",
      "source": [
        "#task-4\n",
        "class Vehicle:\n",
        "    def __init__(self):\n",
        "        self.position=[0,0]\n",
        "    def moveUp(self):\n",
        "        self.position[1]+=1\n",
        "    def moveLeft(self):\n",
        "        self.position[0]-=1\n",
        "    def moveDown(self):\n",
        "        self.position[1]-=1\n",
        "    def moveRight(self):\n",
        "        self.position[0]+=1\n",
        "    def print_position(self):\n",
        "        print(tuple(self.position))\n",
        "car = Vehicle()\n",
        "car.print_position()\n",
        "car.moveUp()\n",
        "car.print_position()\n",
        "car.moveLeft()\n",
        "car.print_position()\n",
        "car.moveDown()\n",
        "car.print_position()\n",
        "car.moveRight()"
      ],
      "metadata": {
        "id": "NloGrmRVe-X7",
        "colab": {
          "base_uri": "https://localhost:8080/"
        },
        "outputId": "5e67cc25-8e2c-49f3-d36c-d75aa860d4ee"
      },
      "execution_count": null,
      "outputs": [
        {
          "output_type": "stream",
          "name": "stdout",
          "text": [
            "(0, 0)\n",
            "(0, 1)\n",
            "(-1, 1)\n",
            "(-1, 0)\n"
          ]
        }
      ]
    },
    {
      "cell_type": "code",
      "source": [
        "#task-5\n",
        "class Shape:\n",
        "    def __init__(self,n='',x=0,y=0):\n",
        "        self.name=n\n",
        "        self.x=x\n",
        "        self.y=y\n",
        "    def area(self):\n",
        "        if self.name== \"Triangle\":\n",
        "            print('Area:',1/2*(self.x*self.y))\n",
        "        elif self.name== 'Square':\n",
        "            print('Area:',self.x*self.y)\n",
        "        elif self.name== 'Rhombus':\n",
        "            print('Area:',(self.x*self.y)/2)\n",
        "        elif self.name== 'Rectangle':\n",
        "            print('Area:',self.x*self.y)\n",
        "        else:\n",
        "            print('Area:','Shape unknown')\n",
        "triangle = Shape(\"Triangle\",10,25)\n",
        "triangle.area()\n",
        "print(\"==========================\")\n",
        "square = Shape(\"Square\",10,10)\n",
        "square.area()\n",
        "print(\"==========================\")\n",
        "rhombus = Shape(\"Rhombus\",18,25)\n",
        "rhombus.area()\n",
        "print(\"==========================\")\n",
        "rectangle = Shape(\"Rectangle\",15,30)\n",
        "rectangle.area()\n",
        "print(\"==========================\")\n",
        "trapezium = Shape(\"Trapezium\",15,30)\n",
        "trapezium.area()\n"
      ],
      "metadata": {
        "id": "3GdigmOkpQ8-",
        "colab": {
          "base_uri": "https://localhost:8080/"
        },
        "outputId": "d34279dd-bcdf-4a3f-b624-a41871401710"
      },
      "execution_count": null,
      "outputs": [
        {
          "output_type": "stream",
          "name": "stdout",
          "text": [
            "Area: 125.0\n",
            "==========================\n",
            "Area: 100\n",
            "==========================\n",
            "Area: 225.0\n",
            "==========================\n",
            "Area: 450\n",
            "==========================\n",
            "Area: Shape unknown\n"
          ]
        }
      ]
    },
    {
      "cell_type": "code",
      "source": [
        "#task-6\n",
        "class Calculator:\n",
        "    def __init__(self):\n",
        "      print('Calculator is ready')\n",
        "    def calculate(self,x,y,z):\n",
        "       self.x = x\n",
        "       self.y = y\n",
        "       self.z = z\n",
        "       if self.z=='+':\n",
        "          return self.x+self.y\n",
        "       elif self.z=='-':\n",
        "          return self.x-self.y\n",
        "       elif self.z=='/':\n",
        "          return self.x/self.y\n",
        "       elif self.z=='*':\n",
        "          return self.x*self.y\n",
        "    def showCalculation(self):\n",
        "        if self.z=='+':\n",
        "            print(self.x,'+',self.y,'=',self.x+self.y)\n",
        "        elif self.z=='-':\n",
        "            print(self.x, '-', self.y, '=', self.x - self.y)\n",
        "        elif self.z=='/':\n",
        "            print(self.x, '/', self.y, '=', self.x / self.y)\n",
        "        elif self.z=='*':\n",
        "            print(self.x, '*', self.y, '=', self.x * self.y)\n",
        "c1 = Calculator()\n",
        "print(\"==================\")\n",
        "val = c1.calculate(10, 20, '+')\n",
        "print(\"Returned value:\", val)\n",
        "c1.showCalculation()\n",
        "print(\"==================\")\n",
        "val = c1.calculate(val, 10, '-')\n",
        "print(\"Returned value:\", val)\n",
        "c1.showCalculation()\n",
        "print(\"==================\")\n",
        "val = c1.calculate(val, 5, '*')\n",
        "print(\"Returned value:\", val)\n",
        "c1.showCalculation()\n",
        "print(\"==================\")\n",
        "val = c1.calculate(val, 16, '/')\n",
        "print(\"Returned value:\", val)\n",
        "c1.showCalculation()"
      ],
      "metadata": {
        "id": "Wr1TbvL6pTIA",
        "colab": {
          "base_uri": "https://localhost:8080/"
        },
        "outputId": "8f253fc2-4811-41d0-9926-600ac3a9843c"
      },
      "execution_count": null,
      "outputs": [
        {
          "output_type": "stream",
          "name": "stdout",
          "text": [
            "Calculator is ready\n",
            "==================\n",
            "Returned value: 30\n",
            "10 + 20 = 30\n",
            "==================\n",
            "Returned value: 20\n",
            "30 - 10 = 20\n",
            "==================\n",
            "Returned value: 100\n",
            "20 * 5 = 100\n",
            "==================\n",
            "Returned value: 6.25\n",
            "100 / 16 = 6.25\n"
          ]
        }
      ]
    },
    {
      "cell_type": "code",
      "source": [
        "#task-7\n",
        "class Student:\n",
        "    def __init__(self,n,id,dep,cg):\n",
        "        self.n=n\n",
        "        self.id=id\n",
        "        self.dep=dep\n",
        "        self.cg=cg\n",
        "    def calculate_CGPA(self):\n",
        "        sum=0\n",
        "        for i in self.cg:\n",
        "            sum+=i*3\n",
        "        cgpa=sum/(len(self.cg)*3)\n",
        "        self.cg=cgpa\n",
        "    def print_details(self):\n",
        "        print('Name',self.n,'ID:',self.id)\n",
        "        print('Department:',self.dep)\n",
        "        print(\"CGPA:\",self.cg)\n",
        "        if self.cg>3.80:\n",
        "            print('Highest Distinction,')\n",
        "        elif self.cg>3.65:\n",
        "            print('High Distinction,')\n",
        "        elif self.cg>3.50:\n",
        "            print('Distinction,')\n",
        "        elif self.cg>2.00:\n",
        "            print('satisfactory')\n",
        "        else:\n",
        "            print('cant bro')\n",
        "s1 = Student('Dora', '15995599','CSE', [4,3.7,3.7,4])\n",
        "s1.calculate_CGPA()\n",
        "print(\"==========================\")\n",
        "s1.print_details()\n",
        "print(\"==========================\")\n",
        "s2 = Student('Pingu', '12312322', 'EEE', [1.7,1.3,1.3,1.3,1])\n",
        "s2.calculate_CGPA()\n",
        "print(\"==========================\")\n",
        "s2.print_details()\n",
        "print(\"==========================\")\n",
        "s3 = Student('Bob', '13311331', 'CSE', [2,3,3,3.7,2.7,2.7])\n",
        "s3.calculate_CGPA()\n",
        "print(\"==========================\")\n",
        "s3.print_details()"
      ],
      "metadata": {
        "id": "v10A-PdsCqcB",
        "colab": {
          "base_uri": "https://localhost:8080/"
        },
        "outputId": "f28c7700-f7ea-48a8-c034-a7f37d9d6fde"
      },
      "execution_count": null,
      "outputs": [
        {
          "output_type": "stream",
          "name": "stdout",
          "text": [
            "==========================\n",
            "Name Dora ID: 15995599\n",
            "Department: CSE\n",
            "CGPA: 3.85\n",
            "Highest Distinction,\n",
            "==========================\n",
            "==========================\n",
            "Name Pingu ID: 12312322\n",
            "Department: EEE\n",
            "CGPA: 1.32\n",
            "cant bro\n",
            "==========================\n",
            "==========================\n",
            "Name Bob ID: 13311331\n",
            "Department: CSE\n",
            "CGPA: 2.85\n",
            "satisfactory\n"
          ]
        }
      ]
    },
    {
      "cell_type": "code",
      "source": [
        "#task-8\n",
        "class Shinobi:\n",
        "    def __init__(self,n,r):\n",
        "        self.n=n\n",
        "        self.r=r\n",
        "        self.s=0\n",
        "        self.m=0\n",
        "    def calSalary(self,m):\n",
        "        self.m=m\n",
        "        if self.r=='Genin':\n",
        "            self.s=self.m*50\n",
        "        elif self.r=='Chunin':\n",
        "            self.s=self.m*100\n",
        "        else:\n",
        "            self.s=self.m*500\n",
        "    def printInfo(self):\n",
        "        print('Name:',self.n)\n",
        "        print('Rank',self.r)\n",
        "        print('Num of miision:',self.m)\n",
        "        print('salary',self.s)\n",
        "    def changeRank(self,r):\n",
        "        self.r=r\n",
        "naruto = Shinobi('Naruto','Genin')\n",
        "naruto.calSalary(5)\n",
        "naruto.printInfo()\n",
        "print('====================')\n",
        "shikamaru = Shinobi('Shikamaru', \"Genin\")\n",
        "shikamaru.printInfo()\n",
        "shikamaru.changeRank(\"Chunin\")\n",
        "shikamaru.calSalary(10)\n",
        "shikamaru.printInfo()\n",
        "print('====================')\n",
        "neiji = Shinobi(\"Neiji\", \"Jonin\")\n",
        "neiji.calSalary(5)\n",
        "neiji.printInfo()"
      ],
      "metadata": {
        "colab": {
          "base_uri": "https://localhost:8080/"
        },
        "id": "IFFWQmwSQz6-",
        "outputId": "7d7543e6-7e32-42c4-c55e-0664573f02de"
      },
      "execution_count": null,
      "outputs": [
        {
          "output_type": "stream",
          "name": "stdout",
          "text": [
            "Name: Naruto\n",
            "Rank Genin\n",
            "Num of miision: 5\n",
            "salary 250\n",
            "====================\n",
            "Name: Shikamaru\n",
            "Rank Genin\n",
            "Num of miision: 0\n",
            "salary 0\n",
            "Name: Shikamaru\n",
            "Rank Chunin\n",
            "Num of miision: 10\n",
            "salary 1000\n",
            "====================\n",
            "Name: Neiji\n",
            "Rank Jonin\n",
            "Num of miision: 5\n",
            "salary 2500\n"
          ]
        }
      ]
    },
    {
      "cell_type": "code",
      "source": [
        "#task-9\n",
        "#task-9\n",
        "class Programmer:\n",
        "  def __init__(self,x,y,z):\n",
        "    print('Horry! A new programmer is born')\n",
        "    self.n=x\n",
        "    self.l=y\n",
        "    self.e=z\n",
        "  def printDetails(self):\n",
        "    print('Name: ',self.n)\n",
        "    print('Langu',self.l)\n",
        "    print('Exp:',self.e)\n",
        "  def addExp(self,add):\n",
        "    print('Updating')\n",
        "    self.e+=add\n",
        "p1 = Programmer(\"Ethen Hunt\", \"Java\", 10)\n",
        "p1.printDetails()\n",
        "print('--------------------------')\n",
        "p2 = Programmer(\"James Bond\", \"C++\", 7)\n",
        "p2.printDetails()\n",
        "print('--------------------------')\n",
        "p3 = Programmer(\"Jon Snow\", \"Python\", 4)\n",
        "p3.printDetails()\n",
        "p3.addExp(5)\n",
        "p3.printDetails()"
      ],
      "metadata": {
        "colab": {
          "base_uri": "https://localhost:8080/"
        },
        "id": "t7xkupCOfYqU",
        "outputId": "a2c56bac-1ede-4d8e-f212-0df402fb3258"
      },
      "execution_count": null,
      "outputs": [
        {
          "output_type": "stream",
          "name": "stdout",
          "text": [
            "Horry! A new programmer is born\n",
            "Name:  Ethen Hunt\n",
            "Langu Java\n",
            "Exp: 10\n",
            "--------------------------\n",
            "Horry! A new programmer is born\n",
            "Name:  James Bond\n",
            "Langu C++\n",
            "Exp: 7\n",
            "--------------------------\n",
            "Horry! A new programmer is born\n",
            "Name:  Jon Snow\n",
            "Langu Python\n",
            "Exp: 4\n",
            "Updating\n",
            "Name:  Jon Snow\n",
            "Langu Python\n",
            "Exp: 9\n"
          ]
        }
      ]
    },
    {
      "cell_type": "code",
      "source": [
        "#task-10\n",
        "class UberEats:\n",
        "    def __init__(self,name,num,loc):\n",
        "        self.n=name\n",
        "        self.num=num\n",
        "        self.l=loc\n",
        "        self.order=''\n",
        "        self.price=0\n",
        "        print('Welcome to ubereasts')\n",
        "    def add_items(self,or1,or2,pz1,pz2):\n",
        "        self.order='{'+or1+':'+str(pz1)+','+or2+':'+str(pz2)+'}'\n",
        "        self.price=pz1+pz2\n",
        "    def print_order_detail(self):\n",
        "        print('name',self.n)\n",
        "        print('phone',self.num)\n",
        "        print('adress',self.l)\n",
        "        print('ord',self.order)\n",
        "        print('paid',self.price)\n",
        "\n",
        "order1 = UberEats(\"Shakib\", \"01719658xxx\", \"Mohakhali\")\n",
        "print(\"=========================\")\n",
        "order1.add_items(\"Burger\", \"Coca Cola\", 220, 50)\n",
        "print(\"=========================\")\n",
        "print(order1.print_order_detail())\n",
        "print(\"=========================\")\n",
        "order2 = UberEats(\"Siam\", \"01719659xxx\", \"Uttara\")\n",
        "print(\"=========================\")\n",
        "order2.add_items(\"Pineapple\", \"Dairy Milk\", 80, 70)\n",
        "print(\"=========================\")\n",
        "print(order2.print_order_detail())\n",
        "\n",
        "\n"
      ],
      "metadata": {
        "colab": {
          "base_uri": "https://localhost:8080/"
        },
        "id": "XzE1iGhnaqp6",
        "outputId": "a35a8cf5-fab2-4cf7-d608-032c372b45ff"
      },
      "execution_count": null,
      "outputs": [
        {
          "output_type": "stream",
          "name": "stdout",
          "text": [
            "Welcome to ubereasts\n",
            "=========================\n",
            "=========================\n",
            "name Shakib\n",
            "phone 01719658xxx\n",
            "adress Mohakhali\n",
            "ord {Burger:220,Coca Cola:50}\n",
            "paid 270\n",
            "None\n",
            "=========================\n",
            "Welcome to ubereasts\n",
            "=========================\n",
            "=========================\n",
            "name Siam\n",
            "phone 01719659xxx\n",
            "adress Uttara\n",
            "ord {Pineapple:80,Dairy Milk:70}\n",
            "paid 150\n",
            "None\n"
          ]
        }
      ]
    },
    {
      "cell_type": "code",
      "source": [
        "#task-11\n",
        "class Spotify:\n",
        "    def __init__(self,x):\n",
        "        self.x=x\n",
        "        print('Welcome to soptify')\n",
        "    def playing_number(self,n):\n",
        "        if n<len(self.x):\n",
        "            return (\n",
        "                f\"Playing {n} number song for you \\nSong name: {self.x[n - 1]} \\n##########################\")\n",
        "        else:\n",
        "            return (f\"{n} number song not found. Your playlist has {len(self.x)} songs only. \\n##########################\")\n",
        "    def add_to_playlist(self,new):\n",
        "        self.x.append(new)\n",
        "user1 = Spotify([\"See You Again\", \"Uptown Funk\", \"Hello\"])\n",
        "print(\"=========================\")\n",
        "print(user1.playing_number(4))\n",
        "user1.add_to_playlist(\"Dusk Till Dawn\")\n",
        "print(user1.playing_number(3))\n",
        "print(user1.playing_number(4))\n"
      ],
      "metadata": {
        "colab": {
          "base_uri": "https://localhost:8080/"
        },
        "id": "pzkrGZa8fPwr",
        "outputId": "beaef117-60a9-4638-9eb4-e88e2227f07e"
      },
      "execution_count": null,
      "outputs": [
        {
          "output_type": "stream",
          "name": "stdout",
          "text": [
            "Welcome to soptify\n",
            "=========================\n",
            "4 number song not found. Your playlist has 3 songs only. \n",
            "##########################\n",
            "Playing 3 number song for you \n",
            "Song name: Hello \n",
            "##########################\n",
            "4 number song not found. Your playlist has 4 songs only. \n",
            "##########################\n"
          ]
        }
      ]
    }
  ]
}