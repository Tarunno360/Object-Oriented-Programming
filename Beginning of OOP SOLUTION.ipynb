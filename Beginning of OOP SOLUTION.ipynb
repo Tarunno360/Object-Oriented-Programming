{
  "nbformat": 4,
  "nbformat_minor": 0,
  "metadata": {
    "colab": {
      "provenance": []
    },
    "kernelspec": {
      "name": "python3",
      "display_name": "Python 3"
    },
    "language_info": {
      "name": "python"
    }
  },
  "cells": [
    {
      "cell_type": "code",
      "execution_count": null,
      "metadata": {
        "id": "CLbOh_vJKYeb",
        "colab": {
          "base_uri": "https://localhost:8080/"
        },
        "outputId": "9db754c4-ee71-47da-9e61-a53dd462e6b6"
      },
      "outputs": [
        {
          "output_type": "stream",
          "name": "stdout",
          "text": [
            "'integer'\n",
            "1234\n",
            "=====================\n",
            "'string'\n",
            "'hello'\n",
            "=====================\n",
            "'Float'\n",
            "4.0\n",
            "=====================\n"
          ]
        }
      ],
      "source": [
        "#task-1\n",
        "class DataType:\n",
        "  def __init__(self,type1,val):\n",
        "    self.name=type1\n",
        "    self.value=val\n",
        "data_type1=DataType(\"'integer'\",1234)\n",
        "print(data_type1.name)\n",
        "print(data_type1.value)\n",
        "print('=====================')\n",
        "data_type2=DataType(\"'string'\",\"'hello'\")\n",
        "print(data_type2.name)\n",
        "print(data_type2.value)\n",
        "print('=====================')\n",
        "data_type3=DataType(\"'Float'\",4.0)\n",
        "print(data_type3.name)\n",
        "print(data_type3.value)\n",
        "print('=====================')"
      ]
    },
    {
      "cell_type": "code",
      "source": [
        "#task-2\n",
        "class Flower:\n",
        "  def __init__(self):\n",
        "    self.name=''\n",
        "    self.color=''\n",
        "    self.num_of_petal=0\n",
        "flower1 = Flower()\n",
        "flower1.name=\"Rose\"\n",
        "flower1.color=\"Red\"\n",
        "flower1.num_of_petal=6\n",
        "print(\"Name of this flower:\", flower1.name)\n",
        "print(\"Color of this flower:\",flower1.color)\n",
        "print(\"Number of petal:\",flower1.num_of_petal)\n",
        "print('=====================')\n",
        "flower2 = Flower()\n",
        "flower2.name=\"Orchid\"\n",
        "flower2.color=\"Purple\"\n",
        "flower2.num_of_petal=4\n",
        "print(\"Name of this flower:\",flower2.name)\n",
        "print(\"Color of this flower:\",flower2.color)\n",
        "print (\"Number of petal:\",flower2. num_of_petal)\n",
        "print(flower1)\n",
        "print(flower2)\n",
        "if flower1==flower2:\n",
        "  print('same')\n",
        "else:\n",
        "  print('diffrent')"
      ],
      "metadata": {
        "colab": {
          "base_uri": "https://localhost:8080/"
        },
        "id": "IZvls_kAN3Sa",
        "outputId": "239c6a1a-1eb5-4e34-9b23-50670fe7b45d"
      },
      "execution_count": null,
      "outputs": [
        {
          "output_type": "stream",
          "name": "stdout",
          "text": [
            "Name of this flower: Rose\n",
            "Color of this flower: Red\n",
            "Number of petal: 6\n",
            "=====================\n",
            "Name of this flower: Orchid\n",
            "Color of this flower: Purple\n",
            "Number of petal: 4\n",
            "<__main__.Flower object at 0x7fa91fb7e650>\n",
            "<__main__.Flower object at 0x7fa91fb7ea90>\n",
            "diffrent\n"
          ]
        }
      ]
    },
    {
      "cell_type": "code",
      "source": [
        "#task-3\n",
        "class Joker:\n",
        "  def __init__(self,nam,pow,pyscho):\n",
        "    self.name=nam\n",
        "    self.power=pow\n",
        "    self.is_he_psycho=pyscho\n",
        "j1 = Joker('Heath Ledger', 'Mind Game', False)\n",
        "print(j1.name)\n",
        "print(j1.power)\n",
        "print(j1.is_he_psycho)\n",
        "print('=====================')\n",
        "j2 = Joker('Joaquin Phoenix', 'Laughing out Loud', True)\n",
        "print(j2.name)\n",
        "print(j2.power)\n",
        "print(j2.is_he_psycho)\n",
        "print('=====================')\n",
        "if j1 == j2:\n",
        "  print('same')\n",
        "else:\n",
        "  print('different')\n",
        "j2.name = 'Heath Ledger'\n",
        "if j1.name == j2.name:\n",
        "  print('same')\n",
        "  print(j1)\n",
        "  print(j2)\n",
        "else:\n",
        "  print('different')"
      ],
      "metadata": {
        "colab": {
          "base_uri": "https://localhost:8080/"
        },
        "id": "IE521lQTRaZx",
        "outputId": "c5ef15b5-3f16-4091-9fcd-7349e6975715"
      },
      "execution_count": null,
      "outputs": [
        {
          "output_type": "stream",
          "name": "stdout",
          "text": [
            "Heath Ledger\n",
            "Mind Game\n",
            "False\n",
            "=====================\n",
            "Joaquin Phoenix\n",
            "Laughing out Loud\n",
            "True\n",
            "=====================\n",
            "different\n",
            "same\n",
            "<__main__.Joker object at 0x7fa91fb810d0>\n",
            "<__main__.Joker object at 0x7fa924e81f10>\n"
          ]
        }
      ]
    },
    {
      "cell_type": "code",
      "source": [
        "#task-4\n",
        "class Pokemon:\n",
        "  def __init__(self,p1,p2,p3,p4,p5):\n",
        "    self.pokemon1_name=p1\n",
        "    self.pokemon2_name=p2\n",
        "    self.pokemon1_power=p3\n",
        "    self.pokemon2_power=p4\n",
        "    self.damage_rate=p5\n",
        "team_pika = Pokemon('pikachu', 'charmander', 90, 60, 10)\n",
        "print('=======Team 1=======')\n",
        "print('Pokemon 1:',team_pika.pokemon1_name,\n",
        "team_pika.pokemon1_power)\n",
        "print('Pokemon 2:',team_pika.pokemon2_name,\n",
        "team_pika.pokemon2_power)\n",
        "pika_combined_power = (team_pika.pokemon1_power +\n",
        "team_pika.pokemon2_power) * team_pika.damage_rate\n",
        "print('Combined Power:', pika_combined_power)\n",
        "team_bulb= Pokemon('bulbasaur', 'squirtle', 80,70,9)\n",
        "print('=======Team 2=======')\n",
        "print('Pokemon 1:',team_bulb.pokemon1_name,\n",
        "team_bulb.pokemon1_power)\n",
        "print('Pokemon 2:',team_bulb.pokemon2_name,\n",
        "team_bulb.pokemon2_power)\n",
        "pika_combined_power = (team_bulb.pokemon1_power +\n",
        "team_bulb.pokemon2_power) * team_bulb.damage_rate\n",
        "print('Combined Power:', pika_combined_power)\n"
      ],
      "metadata": {
        "colab": {
          "base_uri": "https://localhost:8080/"
        },
        "id": "sTfpPCjPTW65",
        "outputId": "20902d78-b078-4566-d687-c735bf98d07c"
      },
      "execution_count": null,
      "outputs": [
        {
          "output_type": "stream",
          "name": "stdout",
          "text": [
            "=======Team 1=======\n",
            "Pokemon 1: pikachu 90\n",
            "Pokemon 2: charmander 60\n",
            "Combined Power: 1500\n",
            "=======Team 2=======\n",
            "Pokemon 1: bulbasaur 80\n",
            "Pokemon 2: squirtle 70\n",
            "Combined Power: 1350\n"
          ]
        }
      ]
    },
    {
      "cell_type": "code",
      "source": [
        "#task-5\n",
        "class Player:\n",
        "  def __init__(self):\n",
        "    self.name=''\n",
        "    self.jersy_number=0\n",
        "    self.position=''\n",
        "player1 = Player()\n",
        "player1.name = \"Ronaldo\"\n",
        "player1.jersy_number = 9\n",
        "player1.position = \"Striker\"\n",
        "print(\"Name of the Player:\", player1.name)\n",
        "print(\"Jersey Number of player:\", player1.jersy_number)\n",
        "print(\"Position of player:\", player1.position)\n",
        "print('===========================')\n",
        "player2 = Player()\n",
        "player2.name = \"Neuer\"\n",
        "player2.jersy_number = 1\n",
        "player2.position = \"Goal Keeper\"\n",
        "print(\"Name of the player:\", player2.name)\n",
        "print(\"Jersey Number of player:\", player2.jersy_number)\n",
        "print(\"Position of player:\", player2.position)"
      ],
      "metadata": {
        "colab": {
          "base_uri": "https://localhost:8080/"
        },
        "id": "UwraMuxaWyb8",
        "outputId": "c57ad02b-ecd2-432d-939e-e3fd0462e854"
      },
      "execution_count": null,
      "outputs": [
        {
          "output_type": "stream",
          "name": "stdout",
          "text": [
            "Name of the Player: Ronaldo\n",
            "Jersey Number of player: 9\n",
            "Position of player: Striker\n",
            "===========================\n",
            "Name of the player: Neuer\n",
            "Jersey Number of player: 1\n",
            "Position of player: Goal Keeper\n"
          ]
        }
      ]
    },
    {
      "cell_type": "code",
      "source": [
        "#task6\n",
        "class Country:\n",
        "  def __init__(self,p1='Bangladesh',p2='Asia',p3='Dhaka',p4='187'):\n",
        "    self.name=p1\n",
        "    self.continent=p2\n",
        "    self.capital=p3\n",
        "    self.fifa_ranking=p4\n",
        "country = Country()\n",
        "print('Name:',country.name)\n",
        "print('Continent:',country.continent)\n",
        "print('Capital:',country.capital)\n",
        "print('Fifa Ranking:',country.fifa_ranking)\n",
        "print('===================')\n",
        "country.name ='Belgium'\n",
        "country.continent = 'Europe'\n",
        "country.capital = 'Brussels'\n",
        "country.fifa_ranking = 1\n",
        "print('Name:',country.name)\n",
        "print('Continent:',country.continent)\n",
        "print('Capital:',country.capital)\n",
        "print('Fifa Ranking:',country.fifa_ranking)"
      ],
      "metadata": {
        "colab": {
          "base_uri": "https://localhost:8080/"
        },
        "id": "M_ZsrkZEYt-c",
        "outputId": "72902b20-7b3d-4f74-aa8f-4579a7a8dc93"
      },
      "execution_count": null,
      "outputs": [
        {
          "output_type": "stream",
          "name": "stdout",
          "text": [
            "Name: Bangladesh\n",
            "Continent: Asia\n",
            "Capital: Dhaka\n",
            "Fifa Ranking: 187\n",
            "===================\n",
            "Name: Belgium\n",
            "Continent: Europe\n",
            "Capital: Brussels\n",
            "Fifa Ranking: 1\n"
          ]
        }
      ]
    },
    {
      "cell_type": "code",
      "source": [
        "#task-7\n",
        "class DemonSlayer:\n",
        "  def __init__(self,p1,p2,p3,p4):\n",
        "    self.name=p1\n",
        "    self.style=p2\n",
        "    self.number_of_technique=p3\n",
        "    self.kill=p4\n",
        "tanjiro = DemonSlayer(\"Tanjiro\", \"Water Breathing\", 10, 10)\n",
        "print('Name:',tanjiro.name)\n",
        "print('Fighting Style:',tanjiro.style)\n",
        "print(f'Knows {tanjiro.number_of_technique} technique(s) and haskilled {tanjiro.kill} demon(s)')\n",
        "print('===================')\n",
        "zenitsu = DemonSlayer(\"Zenitsu\", \"Thunder Breathing\", 1, 4)\n",
        "print('Name:',zenitsu.name)\n",
        "print('Fighting Style:',zenitsu.style)\n",
        "print(f'Knows {zenitsu.number_of_technique} technique(s) and has killed {zenitsu.kill} demon(s)killed {zenitsu.kill} demon(s)')\n",
        "print('===================')\n",
        "inosuke = DemonSlayer(\"Inosuke\", \"Beast Breathing\", 5, 7)\n",
        "print('Name:',inosuke.name)\n",
        "print('Fighting Style:',inosuke.style)\n",
        "print(f'Knows {inosuke.number_of_technique} technique(s) and has killed {inosuke.kill} demon(s)')\n",
        "print('===================')\n",
        "print(f'{tanjiro.name}, {zenitsu.name}, {inosuke.name} knows total {tanjiro.number_of_technique + zenitsu.number_of_technique + inosuke.number_of_technique} techniques')\n",
        "print(f'They have killed total {tanjiro.kill + zenitsu.kill +inosuke.kill} demons')"
      ],
      "metadata": {
        "colab": {
          "base_uri": "https://localhost:8080/"
        },
        "id": "q8-xXGa0bF2H",
        "outputId": "72d74fb9-fdf4-40d6-a389-674854cedf09"
      },
      "execution_count": null,
      "outputs": [
        {
          "output_type": "stream",
          "name": "stdout",
          "text": [
            "Name: Tanjiro\n",
            "Fighting Style: Water Breathing\n",
            "Knows 10 technique(s) and haskilled 10 demon(s)\n",
            "===================\n",
            "Name: Zenitsu\n",
            "Fighting Style: Thunder Breathing\n",
            "Knows 1 technique(s) and has killed 4 demon(s)killed 4 demon(s)\n",
            "===================\n",
            "Name: Inosuke\n",
            "Fighting Style: Beast Breathing\n",
            "Knows 5 technique(s) and has killed 7 demon(s)\n",
            "===================\n",
            "Tanjiro, Zenitsu, Inosuke knows total 16 techniques\n",
            "They have killed total 21 demons\n"
          ]
        }
      ]
    },
    {
      "cell_type": "code",
      "source": [
        "#task-8\n",
        "class box:\n",
        "  def __init__(self,l1):\n",
        "    self.height=l1[0]\n",
        "    self.width=l1[1]\n",
        "    self.breadth=l1[2]\n",
        "    print('Creating a box!')\n",
        "    print('Volume of the box is',l1[0]*l1[1]*l1[2],'cubic unit')\n",
        "print(\"Box 1\")\n",
        "b1 = box([10,10,10])\n",
        "print(\"=========================\")\n",
        "print(\"Height:\", b1.height)\n",
        "print(\"Width:\", b1.width)\n",
        "print(\"Breadth:\", b1.breadth)\n",
        "print(\"-------------------------\")\n",
        "print(\"Box 2\")\n",
        "b2 = box((30,10,10))\n",
        "print(\"=========================\")\n",
        "print(\"Height:\", b2.height)\n",
        "print(\"Width:\", b2.width)\n",
        "print(\"Breadth:\", b2.breadth)\n",
        "b2.height = 300\n",
        "print(\"Updating Box 2!\")\n",
        "print(\"Height:\", b2.height)\n",
        "print(\"Width:\", b2.width)\n",
        "print(\"Breadth:\", b2.breadth)\n",
        "print(\"-------------------------\")\n",
        "print(\"Box 3\")\n",
        "b3 = b2\n",
        "print(\"Height:\", b3.height)\n",
        "print(\"Width:\", b3.width)\n",
        "print(\"Breadth:\", b3.breadth)"
      ],
      "metadata": {
        "colab": {
          "base_uri": "https://localhost:8080/"
        },
        "id": "v5vaT0OfbMsZ",
        "outputId": "3ced4f44-ee9f-4b70-d62b-1057b40f9441"
      },
      "execution_count": null,
      "outputs": [
        {
          "output_type": "stream",
          "name": "stdout",
          "text": [
            "Box 1\n",
            "Creating a box!\n",
            "Volume of the box is 1000 cubic unit\n",
            "=========================\n",
            "Height: 10\n",
            "Width: 10\n",
            "Breadth: 10\n",
            "-------------------------\n",
            "Box 2\n",
            "Creating a box!\n",
            "Volume of the box is 3000 cubic unit\n",
            "=========================\n",
            "Height: 30\n",
            "Width: 10\n",
            "Breadth: 10\n",
            "Updating Box 2!\n",
            "Height: 300\n",
            "Width: 10\n",
            "Breadth: 10\n",
            "-------------------------\n",
            "Box 3\n",
            "Height: 300\n",
            "Width: 10\n",
            "Breadth: 10\n"
          ]
        }
      ]
    },
    {
      "cell_type": "code",
      "source": [
        "#task-9\n",
        "# task-9\n",
        "class buttons:\n",
        "    def __init__(self,w, s, b):\n",
        "        self.word=w\n",
        "        self.spaces=s\n",
        "        self.border=b\n",
        "        print(w,'Button Specifications:')\n",
        "        print('Button name:',w)\n",
        "        print('Number of the border characters for the top and the bottom:',(1+s+len(w)+s+1))\n",
        "        print('Number of spaces between the left side border and the first character of the button name:',s)\n",
        "        print('Number of spaces between the right side border and the last character of the button name:',s)\n",
        "        print('Characters representing the borders:',b)\n",
        "        print()\n",
        "        print((1+s+len(w)+s+1)*b)\n",
        "        print(b,end='')\n",
        "        print(' '*s,end='')\n",
        "        print(w,end='')\n",
        "        print(' '*s,end='')\n",
        "        print(b)\n",
        "        print((1 + s + len(w) + s + 1) * b)\n",
        "word = \"CANCEL\"\n",
        "spaces = 10\n",
        "border = 'x'\n",
        "b1 = buttons(word, spaces, border)\n",
        "print(\"=======================================================\")\n",
        "b2 = buttons(\"Notify\", 3, '!')\n",
        "print(\"=======================================================\")\n",
        "b3 = buttons('SAVE PROGRESS', 5, '$')"
      ],
      "metadata": {
        "colab": {
          "base_uri": "https://localhost:8080/"
        },
        "id": "A8_VkTcPGe4C",
        "outputId": "a5ec6585-0cfe-4c19-c4b8-5689165dd3fd"
      },
      "execution_count": null,
      "outputs": [
        {
          "output_type": "stream",
          "name": "stdout",
          "text": [
            "CANCEL Button Specifications:\n",
            "Button name: CANCEL\n",
            "Number of the border characters for the top and the bottom: 28\n",
            "Number of spaces between the left side border and the first character of the button name: 10\n",
            "Number of spaces between the right side border and the last character of the button name: 10\n",
            "Characters representing the borders: x\n",
            "\n",
            "xxxxxxxxxxxxxxxxxxxxxxxxxxxx\n",
            "x          CANCEL          x\n",
            "xxxxxxxxxxxxxxxxxxxxxxxxxxxx\n",
            "=======================================================\n",
            "Notify Button Specifications:\n",
            "Button name: Notify\n",
            "Number of the border characters for the top and the bottom: 14\n",
            "Number of spaces between the left side border and the first character of the button name: 3\n",
            "Number of spaces between the right side border and the last character of the button name: 3\n",
            "Characters representing the borders: !\n",
            "\n",
            "!!!!!!!!!!!!!!\n",
            "!   Notify   !\n",
            "!!!!!!!!!!!!!!\n",
            "=======================================================\n",
            "SAVE PROGRESS Button Specifications:\n",
            "Button name: SAVE PROGRESS\n",
            "Number of the border characters for the top and the bottom: 25\n",
            "Number of spaces between the left side border and the first character of the button name: 5\n",
            "Number of spaces between the right side border and the last character of the button name: 5\n",
            "Characters representing the borders: $\n",
            "\n",
            "$$$$$$$$$$$$$$$$$$$$$$$$$\n",
            "$     SAVE PROGRESS     $\n",
            "$$$$$$$$$$$$$$$$$$$$$$$$$\n"
          ]
        }
      ]
    },
    {
      "cell_type": "code",
      "source": [
        "#task-10\n",
        "class Wadiya():\n",
        "    def __init__(self):\n",
        "        self.name = 'Aladeen'\n",
        "        self.designation = 'President Prime Minister Admiral General'\n",
        "        self.num_of_wife = 100\n",
        "        self.dictator = True\n",
        "part1=Wadiya()\n",
        "print('Part 1:')\n",
        "print('Name of President:',part1.name)\n",
        "print('Designation:',part1.designation)\n",
        "print('Number of wife:',part1.num_of_wife)\n",
        "print('Is he/she a dictator:',part1.dictator)\n",
        "part2=Wadiya()\n",
        "print('part 2:')\n",
        "part2.name='Donald Trump'\n",
        "part2.designation='President'\n",
        "part2.num_of_wife=1\n",
        "part2.dictator=False\n",
        "print('Name of President:',part2.name)\n",
        "print('Designation:',part2.designation)\n",
        "print('Number of wife:',part2.num_of_wife)\n",
        "print('Is he/she a dictator:',part2.dictator)\n",
        "if part1.name == part2.name :\n",
        "    print('previous information lost')\n",
        "else:\n",
        "    print('No, changing had no effect on previous value')\n",
        "\n"
      ],
      "metadata": {
        "id": "46Bp-hLCgZUx",
        "colab": {
          "base_uri": "https://localhost:8080/"
        },
        "outputId": "5113857b-d219-4ddb-caad-579e5be1f6b6"
      },
      "execution_count": null,
      "outputs": [
        {
          "output_type": "stream",
          "name": "stdout",
          "text": [
            "Part 1:\n",
            "Name of President: Aladeen\n",
            "Designation: President Prime Minister Admiral General\n",
            "Number of wife: 100\n",
            "Is he/she a dictator: True\n",
            "part 2:\n",
            "Name of President: Donald Trump\n",
            "Designation: President\n",
            "Number of wife: 1\n",
            "Is he/she a dictator: False\n",
            "No, changing had no effect on previous value\n"
          ]
        }
      ]
    },
    {
      "cell_type": "code",
      "source": [
        "class Human:\n",
        "  def __init__(self):\n",
        "    self.age = 0\n",
        "    self.height = 0.0\n",
        "h1 = Human()\n",
        "h2 = Human()\n",
        "h1.age = 21\n",
        "h1.height = 5.5\n",
        "print(h1.age)\n",
        "print(h1.height)\n",
        "h2.height = h1.height - 3\n",
        "print(h2.height)\n",
        "h2.age = h1.age\n",
        "h1.age += h1.age\n",
        "print(h1.age)\n",
        "h2 = h1\n",
        "print(h2.age)\n",
        "print(h2.height)\n",
        "h1.age += h1.age\n",
        "h2.height += h2.height\n",
        "print(h1.age)\n",
        "print(h1.height)\n",
        "h2.age += h2.age\n",
        "h1.age = h2.age\n",
        "print(h2.age)"
      ],
      "metadata": {
        "colab": {
          "base_uri": "https://localhost:8080/"
        },
        "id": "pX-PYx0qjryk",
        "outputId": "317ab94b-118f-49e3-b9b7-357996472e1e"
      },
      "execution_count": null,
      "outputs": [
        {
          "output_type": "stream",
          "name": "stdout",
          "text": [
            "21\n",
            "5.5\n",
            "2.5\n",
            "42\n",
            "42\n",
            "5.5\n",
            "84\n",
            "11.0\n",
            "168\n"
          ]
        }
      ]
    },
    {
      "cell_type": "code",
      "source": [
        "class Student:\n",
        "    def __init__(self):\n",
        "        self.name = None\n",
        "        self.cgpa = 0.0\n",
        "s1 = Student()\n",
        "s2 = Student()\n",
        "s3 = None\n",
        "s1.name = \"Student One\"\n",
        "s1.cgpa = 2.3\n",
        "s3 = s1\n",
        "s2.name = \"Student Two\"\n",
        "s2.cgpa = s3.cgpa + 1\n",
        "s3.name = \"New Student\"\n",
        "print(s1.name)\n",
        "print(s2.name)\n",
        "print(s3.name)\n",
        "print(s1.cgpa)\n",
        "print(s2.cgpa)\n",
        "print(s3.cgpa)\n",
        "s3 = s2\n",
        "s1.name = \"old student\"\n",
        "s2.name = \"older student\"\n",
        "s3.name = \"oldest student\"\n",
        "s2.cgpa = s1.cgpa - s3.cgpa + 4.5\n",
        "print(s1.name)\n",
        "print(s2.name)\n",
        "print(s3.name)\n",
        "print(s1.cgpa)\n",
        "print(s2.cgpa)\n",
        "print(s3.cgpa)\n",
        "\n",
        "\n"
      ],
      "metadata": {
        "colab": {
          "base_uri": "https://localhost:8080/"
        },
        "id": "rGbFbmR5msWS",
        "outputId": "74b82f46-d7f0-4109-a3b3-dd679bffee3b"
      },
      "execution_count": null,
      "outputs": [
        {
          "output_type": "stream",
          "name": "stdout",
          "text": [
            "New Student\n",
            "Student Two\n",
            "New Student\n",
            "2.3\n",
            "3.3\n",
            "2.3\n",
            "old student\n",
            "oldest student\n",
            "oldest student\n",
            "2.3\n",
            "3.5\n",
            "3.5\n"
          ]
        }
      ]
    },
    {
      "cell_type": "code",
      "source": [
        "class Ninja:\n",
        "    def __init__(self):\n",
        "        self.rank = 0\n",
        "        self.stamina = 0.0\n",
        "\n",
        "\n",
        "naruto = Ninja()\n",
        "yellow_flash = Ninja()\n",
        "naruto.rank = 1\n",
        "naruto.stamina = 95.0\n",
        "print(naruto.rank)\n",
        "print(naruto.stamina)\n",
        "yellow_flash.stamina = naruto.stamina - 2\n",
        "print(yellow_flash.stamina)\n",
        "yellow_flash.rank += (naruto.rank + 1)\n",
        "print(yellow_flash.rank)\n",
        "minato = yellow_flash\n",
        "print(minato.rank)\n",
        "print(minato.stamina)\n",
        "naruto.rank = minato.rank - 1\n",
        "naruto.stamina = yellow_flash.stamina + 3\n",
        "print(naruto.rank)\n",
        "print(naruto.stamina)\n",
        "naruto.rank = -(-naruto.rank)\n",
        "yellow_flash.stamina = -(-minato.stamina)\n",
        "print(naruto.rank)\n",
        "print(minato.stamina)\n",
        "\n"
      ],
      "metadata": {
        "colab": {
          "base_uri": "https://localhost:8080/"
        },
        "id": "wYpfWeSDm2-6",
        "outputId": "5ae5baa6-6452-4ddb-dbd9-011bb971e82f"
      },
      "execution_count": null,
      "outputs": [
        {
          "output_type": "stream",
          "name": "stdout",
          "text": [
            "1\n",
            "95.0\n",
            "93.0\n",
            "2\n",
            "2\n",
            "93.0\n",
            "1\n",
            "96.0\n",
            "1\n",
            "93.0\n"
          ]
        }
      ]
    }
  ]
}